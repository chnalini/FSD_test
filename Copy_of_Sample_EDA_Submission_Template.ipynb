{
  "cells": [
    {
      "cell_type": "markdown",
      "metadata": {
        "id": "view-in-github",
        "colab_type": "text"
      },
      "source": [
        "<a href=\"https://colab.research.google.com/github/chnalini/FSD_test/blob/main/Copy_of_Sample_EDA_Submission_Template.ipynb\" target=\"_parent\"><img src=\"https://colab.research.google.com/assets/colab-badge.svg\" alt=\"Open In Colab\"/></a>"
      ]
    },
    {
      "cell_type": "code",
      "execution_count": null,
      "metadata": {
        "id": "I1apcow5dxii"
      },
      "outputs": [],
      "source": []
    },
    {
      "cell_type": "markdown",
      "metadata": {
        "id": "vncDsAP0Gaoa"
      },
      "source": [
        "# **Project Name**   Analysis of Cab Demand and Supply Patterns in Uber -\n",
        "\n"
      ]
    },
    {
      "cell_type": "markdown",
      "metadata": {
        "id": "beRrZCGUAJYm"
      },
      "source": [
        "##### **Project Type**    - EDA\n",
        "##### **Contribution**    - Individual"
      ]
    },
    {
      "cell_type": "markdown",
      "metadata": {
        "id": "FJNUwmbgGyua"
      },
      "source": [
        "# **Project Summary -**\n",
        "\n",
        "The project, \"Analysis of Cab Demand and Supply Patterns in Uber,\" utilized historical Uber request data to identify key trends and inefficiencies in the cab service.\n",
        "\n",
        "The analysis revealed a significant imbalance between demand and supply, with a substantial number of requests remaining unfulfilled. Out of all requests, only $42\\%$ were successfully completed, while $39\\%$ faced 'No Cars Available' and $19\\%$ were 'Cancelled'.\n",
        "\n",
        "**Key findings by pickup point and time of day include:**\n",
        "\n",
        "* **Airport:** Experienced a severe shortage of cabs, particularly during evening rush hours ($5 \\text{ PM}$ to $10 \\text{ PM}$). This period was characterized by a high volume of 'No Cars Available' statuses, indicating that demand far outstripped the available supply of vehicles.\n",
        "* **City:** Faced a different challenge, with a high rate of trip cancellations during morning rush hours ($4 \\text{ AM}$ to $9 \\text{ AM}$). This suggests potential issues such as drivers being unwilling to accept rides or preferring routes to other destinations (e.g., Airport).\n",
        "\n",
        "In conclusion, the project highlights critical operational bottlenecks for Uber. The unmet demand, particularly at the Airport in the evenings, and the high cancellation rate from the City in the mornings, point to the need for strategic interventions to optimize driver allocation and incentives, ensuring a more efficient and reliable service."
      ]
    },
    {
      "cell_type": "markdown",
      "metadata": {
        "id": "w6K7xa23Elo4"
      },
      "source": [
        "# **GitHub Link -**"
      ]
    },
    {
      "cell_type": "markdown",
      "metadata": {
        "id": "h1o69JH3Eqqn"
      },
      "source": [
        "Provide your GitHub Link here."
      ]
    },
    {
      "cell_type": "markdown",
      "metadata": {
        "id": "yQaldy8SH6Dl"
      },
      "source": [
        "# **Problem Statement**\n"
      ]
    },
    {
      "cell_type": "markdown",
      "metadata": {
        "id": "DpeJGUA3kjGy"
      },
      "source": [
        "Ride-hailing services like Uber often face operational challenges in meeting user demand during certain time periods and locations. A significant number of ride requests either go unfulfilled due to unavailability of cabs or are cancelled by drivers, resulting in customer dissatisfaction and service inefficiency. These disruptions are particularly frequent during off-peak hours or from high-demand areas such as airports.\n",
        "\n",
        "This project aims to investigate the patterns in Uber ride request data to identify when and where these service gaps occur. By analyzing ride statuses across different time slots and pickup points, the objective is to uncover the key factors contributing to demand-supply mismatches and to provide data-driven recommendations for improving ride fulfillment and optimizing driver allocation."
      ]
    },
    {
      "cell_type": "markdown",
      "metadata": {
        "id": "PH-0ReGfmX4f"
      },
      "source": [
        "#### **Define Your Business Objective?**"
      ]
    },
    {
      "cell_type": "markdown",
      "metadata": {
        "id": "PhDvGCAqmjP1"
      },
      "source": [
        "The objective of this project is to analyze Uber ride request data to identify patterns in cab demand and supply across different times of the day and locations. By understanding when and where ride requests are most frequently unfulfilled—due to cancellations or lack of available drivers—the goal is to uncover the root causes of service gaps. The analysis aims to provide actionable insights that can help Uber optimize driver availability, reduce missed ride opportunities, and enhance overall customer satisfaction through data-driven decision-making.\n",
        "\n"
      ]
    },
    {
      "cell_type": "markdown",
      "metadata": {
        "id": "mDgbUHAGgjLW"
      },
      "source": [
        "# **General Guidelines** : -  "
      ]
    },
    {
      "cell_type": "markdown",
      "metadata": {
        "id": "ZrxVaUj-hHfC"
      },
      "source": [
        "1.   Well-structured, formatted, and commented code is required.\n",
        "2.   Exception Handling, Production Grade Code & Deployment Ready Code will be a plus. Those students will be awarded some additional credits.\n",
        "     \n",
        "     The additional credits will have advantages over other students during Star Student selection.\n",
        "       \n",
        "             [ Note: - Deployment Ready Code is defined as, the whole .ipynb notebook should be executable in one go\n",
        "                       without a single error logged. ]\n",
        "\n",
        "3.   Each and every logic should have proper comments.\n",
        "4. You may add as many number of charts you want. Make Sure for each and every chart the following format should be answered.\n",
        "        \n",
        "\n",
        "```\n",
        "# Chart visualization code\n",
        "```\n",
        "            \n",
        "\n",
        "*   Why did you pick the specific chart?\n",
        "*   What is/are the insight(s) found from the chart?\n",
        "* Will the gained insights help creating a positive business impact?\n",
        "Are there any insights that lead to negative growth? Justify with specific reason.\n",
        "\n",
        "5. You have to create at least 20 logical & meaningful charts having important insights.\n",
        "\n",
        "\n",
        "[ Hints : - Do the Vizualization in  a structured way while following \"UBM\" Rule.\n",
        "\n",
        "U - Univariate Analysis,\n",
        "\n",
        "B - Bivariate Analysis (Numerical - Categorical, Numerical - Numerical, Categorical - Categorical)\n",
        "\n",
        "M - Multivariate Analysis\n",
        " ]\n",
        "\n",
        "\n",
        "\n"
      ]
    },
    {
      "cell_type": "markdown",
      "metadata": {
        "id": "O_i_v8NEhb9l"
      },
      "source": [
        "# ***Let's Begin !***"
      ]
    },
    {
      "cell_type": "markdown",
      "metadata": {
        "id": "HhfV-JJviCcP"
      },
      "source": [
        "## ***1. Know Your Data***"
      ]
    },
    {
      "cell_type": "markdown",
      "metadata": {
        "id": "Y3lxredqlCYt"
      },
      "source": [
        "### Import Libraries"
      ]
    },
    {
      "cell_type": "code",
      "execution_count": null,
      "metadata": {
        "id": "M8Vqi-pPk-HR"
      },
      "outputs": [],
      "source": [
        "#Import Libraries\n",
        "import pandas as pd\n",
        "import numpy as np\n",
        "import matplotlib.pyplot as plt\n",
        "import seaborn as sns\n",
        "import warnings\n",
        "warnings.filterwarnings('ignore')\n",
        "\n",
        "pd.set_option('display.max_columns', None)\n",
        "\n",
        "print(\"✅ Libraries successfully imported.\")"
      ]
    },
    {
      "cell_type": "code",
      "execution_count": null,
      "metadata": {
        "id": "-clOGjrOnXWm"
      },
      "outputs": [],
      "source": [
        "from google.colab import drive\n",
        "drive.mount('/content/drive')"
      ]
    },
    {
      "cell_type": "markdown",
      "metadata": {
        "id": "3RnN4peoiCZX"
      },
      "source": [
        "### Dataset Loading"
      ]
    },
    {
      "cell_type": "code",
      "execution_count": null,
      "metadata": {
        "id": "XQioiV7snqvL"
      },
      "outputs": [],
      "source": [
        "file_path = '/content/drive/MyDrive/Colab Notebooks/Uber_Request_Data.csv'"
      ]
    },
    {
      "cell_type": "code",
      "execution_count": null,
      "metadata": {
        "id": "4CkvbW_SlZ_R"
      },
      "outputs": [],
      "source": [
        "# Load Dataset\n",
        "\n",
        "df = pd.read_csv('/content/drive/MyDrive/Colab Notebooks/Uber_Request_Data.csv')\n",
        "#print(df.head())\n"
      ]
    },
    {
      "cell_type": "markdown",
      "metadata": {
        "id": "x71ZqKXriCWQ"
      },
      "source": [
        "### Dataset First View"
      ]
    },
    {
      "cell_type": "code",
      "execution_count": null,
      "metadata": {
        "id": "LWNFOSvLl09H"
      },
      "outputs": [],
      "source": [
        "# Dataset First Look\n",
        "df.head()"
      ]
    },
    {
      "cell_type": "code",
      "execution_count": null,
      "metadata": {
        "id": "l2X5X9qKvi2n"
      },
      "outputs": [],
      "source": [
        "df.tail()"
      ]
    },
    {
      "cell_type": "markdown",
      "metadata": {
        "id": "7hBIi_osiCS2"
      },
      "source": [
        "### Dataset Rows & Columns count"
      ]
    },
    {
      "cell_type": "code",
      "execution_count": null,
      "metadata": {
        "id": "Kllu7SJgmLij"
      },
      "outputs": [],
      "source": [
        "# Dataset Rows & Columns count\n",
        "df.shape"
      ]
    },
    {
      "cell_type": "markdown",
      "metadata": {
        "id": "v4ntr_wgvi2o"
      },
      "source": [
        "The data has 6745 rows and 6 columns"
      ]
    },
    {
      "cell_type": "markdown",
      "metadata": {
        "id": "JlHwYmJAmNHm"
      },
      "source": [
        "### Dataset Information"
      ]
    },
    {
      "cell_type": "code",
      "execution_count": null,
      "metadata": {
        "id": "e9hRXRi6meOf"
      },
      "outputs": [],
      "source": [
        "# Dataset Info\n",
        "df.info()"
      ]
    },
    {
      "cell_type": "markdown",
      "metadata": {
        "id": "ETlbjwLmvi2o"
      },
      "source": [
        "From the above information, It includes both categorical column and numeric features"
      ]
    },
    {
      "cell_type": "markdown",
      "metadata": {
        "id": "35m5QtbWiB9F"
      },
      "source": [
        "#### Duplicate Values"
      ]
    },
    {
      "cell_type": "code",
      "execution_count": null,
      "metadata": {
        "id": "1sLdpKYkmox0"
      },
      "outputs": [],
      "source": [
        "# Dataset Duplicate Value Count\n",
        "df.duplicated().sum()"
      ]
    },
    {
      "cell_type": "markdown",
      "metadata": {
        "id": "2CsaH79Evi2p"
      },
      "source": [
        "There are no duplicate values in the dataset"
      ]
    },
    {
      "cell_type": "markdown",
      "metadata": {
        "id": "PoPl-ycgm1ru"
      },
      "source": [
        "#### Missing Values/Null Values"
      ]
    },
    {
      "cell_type": "code",
      "execution_count": null,
      "metadata": {
        "id": "GgHWkxvamxVg"
      },
      "outputs": [],
      "source": [
        "# Missing Values/Null Values Count\n",
        "df.isnull().sum()"
      ]
    },
    {
      "cell_type": "markdown",
      "metadata": {
        "id": "S2XJNBMZvi2q"
      },
      "source": [
        "- From the above output, Driver id and Drop timestamp have missing values needs cleaning.\n",
        "- it may be due to cancellations or no car availability.\n",
        "- These are valid NAN values based on business logic and will be handled accordingly during analysis."
      ]
    },
    {
      "cell_type": "code",
      "execution_count": null,
      "metadata": {
        "id": "42UT0hlbvi2q"
      },
      "outputs": [],
      "source": [
        "df['Status'].value_counts()"
      ]
    },
    {
      "cell_type": "markdown",
      "metadata": {
        "id": "tVEgUJI9vi2q"
      },
      "source": [
        "From the above count, Trips completed and No Cars Available categories are having more records than 'Cancelled' category"
      ]
    },
    {
      "cell_type": "code",
      "execution_count": null,
      "metadata": {
        "id": "3q5wnI3om9sJ"
      },
      "outputs": [],
      "source": [
        "# Visualizing the missing values\n",
        "\n",
        "# Count of missing values\n",
        "missing_values = df.isnull().sum()\n",
        "missing_values = missing_values[missing_values > 0]  # only show columns with nulls\n",
        "\n",
        "# Plot\n",
        "plt.figure(figsize=(8, 6))\n",
        "missing_values.plot(kind='bar', color='blue')\n",
        "plt.title('Missing Values Count per Column')\n",
        "plt.ylabel('Number of Missing Values')\n",
        "plt.xticks(rotation=45)\n",
        "plt.grid(axis='y', linestyle='--', alpha=0.7)\n",
        "plt.tight_layout()\n",
        "plt.show()"
      ]
    },
    {
      "cell_type": "markdown",
      "metadata": {
        "id": "sYwKC0qMvi21"
      },
      "source": [
        "There are more missing values in Drop timestamp than Driver id column"
      ]
    },
    {
      "cell_type": "markdown",
      "metadata": {
        "id": "H0kj-8xxnORC"
      },
      "source": [
        "### What did you know about your dataset?"
      ]
    },
    {
      "cell_type": "markdown",
      "metadata": {
        "id": "gfoNAAC-nUe_"
      },
      "source": [
        "- The dataset has 6745 rows and 6 columns\n",
        "- Each row represents a unique trip request with details like 'Request id', 'Pickup point', 'Driver id', 'Status',\n",
        "    'Request timestamp', 'Drop timestamp'.\n",
        "- The 'Status' column has three categories\n",
        "    - Trip Completed -- Trips that successfully completed\n",
        "    - Cancelled -- User or driver cancelled the trip\n",
        "    - No Cars Available -- Request failed due to supply shortage\n",
        "\n",
        "- The pickup point indicates whether the trip originated from the Airport or City.\n",
        "- Time based fields (timestamps) are useful for deriving request hour, day, and trip duration.\n",
        "- Drop timestamps are missing for \"cancelled\" and \"No cars available\" trips - this is expected and valid."
      ]
    },
    {
      "cell_type": "markdown",
      "metadata": {
        "id": "nA9Y7ga8ng1Z"
      },
      "source": [
        "## ***2. Understanding Your Variables***"
      ]
    },
    {
      "cell_type": "code",
      "execution_count": null,
      "metadata": {
        "id": "j7xfkqrt5Ag5"
      },
      "outputs": [],
      "source": [
        "# Dataset Columns\n",
        "df.columns"
      ]
    },
    {
      "cell_type": "code",
      "execution_count": null,
      "metadata": {
        "id": "DnOaZdaE5Q5t"
      },
      "outputs": [],
      "source": [
        "# Dataset Describe\n",
        "df.describe()"
      ]
    },
    {
      "cell_type": "markdown",
      "metadata": {
        "id": "PBTbrJXOngz2"
      },
      "source": [
        "### Variables Description"
      ]
    },
    {
      "cell_type": "markdown",
      "metadata": {
        "id": "aJV4KIxSnxay"
      },
      "source": [
        "- From the above statistical figures, All trips in the data were completed by single driver (Driver id = 1)\n"
      ]
    },
    {
      "cell_type": "markdown",
      "metadata": {
        "id": "u3PMJOP6ngxN"
      },
      "source": [
        "### Check Unique Values for each variable."
      ]
    },
    {
      "cell_type": "code",
      "execution_count": null,
      "metadata": {
        "id": "zms12Yq5n-jE"
      },
      "outputs": [],
      "source": [
        "# Check Unique Values for each variable.\n",
        "for column in df.columns:\n",
        "    unique_values = df[column].nunique()\n",
        "    print(f\"Unique values for column '{column}':\")\n",
        "    print(unique_values)\n",
        "    print()"
      ]
    },
    {
      "cell_type": "code",
      "execution_count": null,
      "metadata": {
        "id": "l5xG8GMSvi24"
      },
      "outputs": [],
      "source": [
        "df['Status'].value_counts()"
      ]
    },
    {
      "cell_type": "markdown",
      "metadata": {
        "id": "pYUjRUlBvi24"
      },
      "source": [
        "- Mostly 1264 number of trips are under cancelled category"
      ]
    },
    {
      "cell_type": "code",
      "execution_count": null,
      "metadata": {
        "id": "lEWA5fa_vi25"
      },
      "outputs": [],
      "source": [
        "df['Pickup point'].value_counts()"
      ]
    },
    {
      "cell_type": "markdown",
      "metadata": {
        "id": "dauF4eBmngu3"
      },
      "source": [
        "## 3. ***Data Wrangling***"
      ]
    },
    {
      "cell_type": "markdown",
      "metadata": {
        "id": "bKJF3rekwFvQ"
      },
      "source": [
        "### Data Wrangling Code"
      ]
    },
    {
      "cell_type": "code",
      "execution_count": null,
      "metadata": {
        "id": "wk-9a2fpoLcV"
      },
      "outputs": [],
      "source": [
        "# Write your code to make your dataset analysis ready.\n",
        "import pandas as pd\n",
        "import numpy as np\n",
        "\n",
        "# Load the data\n",
        "#df = pd.read_csv('/content/drive/MyDrive/Colab Notebooks/Uber_Request_Data.csv')\n",
        "\n",
        "\n",
        "# 1. Check and clean column names\n",
        "df.columns = df.columns.str.strip().str.replace(\" \", \"_\").str.lower()\n",
        "\n",
        "\n",
        "# 2. Convert timestamps\n",
        "df['request_timestamp'] = pd.to_datetime(df['request_timestamp'], dayfirst=True, errors='coerce')\n",
        "df['drop_timestamp'] = pd.to_datetime(df['drop_timestamp'], dayfirst=True, errors='coerce')\n",
        "\n",
        "\n",
        "# 3. Handle missing values\n",
        "# Check missing\n",
        "print(\"Missing Values:\\n\", df.isnull().sum())\n",
        "\n",
        "# Drop rows with missing request timestamp\n",
        "df = df[~df['request_timestamp'].isnull()]\n",
        "\n",
        "# Drop rows where status is \"Trip Completed\" but drop_timestamp is null\n",
        "df = df[~((df['status'] == 'Trip Completed') & (df['drop_timestamp'].isnull()))]\n",
        "\n",
        "# 4. Feature Engineering\n",
        "# Extract hour, day of week from request timestamp\n",
        "df['request_hour'] = df['request_timestamp'].dt.hour\n",
        "df['request_day'] = df['request_timestamp'].dt.day_name()\n",
        "\n",
        "# Create trip duration (only for completed trips)\n",
        "df['trip_duration_mins'] = (df['drop_timestamp'] - df['request_timestamp']).dt.total_seconds() / 60\n",
        "df['trip_duration_mins'] = df['trip_duration_mins'].round(2)\n",
        "\n",
        "# 5. Categorical cleanup\n",
        "# Strip whitespace and lowercase categories\n",
        "df['pickup_point'] = df['pickup_point'].str.strip().str.title()\n",
        "df['status'] = df['status'].str.strip().str.title()\n",
        "\n",
        "\n",
        "# 6. Final Dataset Overview\n",
        "print(\"\\nFinal Cleaned Dataset Info:\")\n",
        "print(df.info())\n",
        "print(df.head())\n",
        "\n",
        "# Save the cleaned dataset (optional)\n",
        "df.to_csv('Uber_Request_Data_Cleaned.csv', index=False)"
      ]
    },
    {
      "cell_type": "code",
      "execution_count": null,
      "metadata": {
        "id": "3DzILjKZvi28"
      },
      "outputs": [],
      "source": [
        "df.columns"
      ]
    },
    {
      "cell_type": "code",
      "execution_count": null,
      "metadata": {
        "id": "oetzqvpvvi28"
      },
      "outputs": [],
      "source": [
        "df.shape"
      ]
    },
    {
      "cell_type": "markdown",
      "metadata": {
        "id": "1g11YHA3vi28"
      },
      "source": [
        "The shape of the data after cleaning having 2661 rows and 6 columns"
      ]
    },
    {
      "cell_type": "code",
      "execution_count": null,
      "metadata": {
        "id": "xhHMY_fivi29"
      },
      "outputs": [],
      "source": [
        "# Check for non-numeric values in request_id or driver_id (which should be numeric)\n",
        "df_invalid_request_id = df[~df['request_id'].astype(str).str.isnumeric()]\n",
        "df_invalid_driver_id = df[~df['driver_id'].astype(str).str.replace('.', '', 1).str.isnumeric()]\n",
        "\n",
        "# Check for unexpected values in pickup point or status\n",
        "expected_pickups = ['Airport', 'City']\n",
        "df_invalid_pickup = df[~df['pickup_point'].isin(expected_pickups)]\n",
        "\n",
        "expected_statuses = ['Trip Completed', 'Cancelled', 'No Cars Available']\n",
        "df_invalid_status = df[~df['status'].isin(expected_statuses)]\n",
        "\n",
        "# Combine all malformed rows\n",
        "df_malformed = pd.concat([df_invalid_request_id, df_invalid_driver_id, df_invalid_pickup, df_invalid_status]).drop_duplicates()"
      ]
    },
    {
      "cell_type": "code",
      "execution_count": null,
      "metadata": {
        "id": "xv3LVhnevi29"
      },
      "outputs": [],
      "source": [
        "df_malformed.shape"
      ]
    },
    {
      "cell_type": "code",
      "execution_count": null,
      "metadata": {
        "id": "aCYnQkklvi29"
      },
      "outputs": [],
      "source": [
        "df_malformed['status'].value_counts()"
      ]
    },
    {
      "cell_type": "code",
      "execution_count": null,
      "metadata": {
        "id": "YkX1Y7khvi2-"
      },
      "outputs": [],
      "source": [
        "df_malformed.head(10)"
      ]
    },
    {
      "cell_type": "markdown",
      "metadata": {
        "id": "MSa1f5Uengrz"
      },
      "source": [
        "### What all manipulations have you done and insights you found?"
      ]
    },
    {
      "cell_type": "markdown",
      "metadata": {
        "id": "LbyXE7I1olp8"
      },
      "source": [
        "*** Data Manipulations performed ***\n",
        "\n",
        "1. Handling missing values:\n",
        "    - Detected missing values in driver_id,drop_timestamp and request_timestamp entries\n",
        "    - request_timestamp: Missing in rows where request dfailed or data was corrupted\n",
        "    - drop_timestamp: Missing for \"Cancelled\" and \"No cars available\" trips, this is an expected behaviour.\n",
        "    - driver_id: Missing for trips that are never assigned especially \"No cars available\".\n",
        "    - Retained them as is where business logic demands(eg:\"No cars available\" shouldn't have drop time or driver id)\n",
        "    - These missing values were not removed, becaause they are part of normal business flow. Instead, they are flagged and analyzed logically.\n",
        "\n",
        "2. Converted timestamps\n",
        "    - Standardized inconsistent timestamp formats (e.g.,\"11/7/2016\",\"13-07-2016\") using pd.to_datetime() with dayfirst = True.\n",
        "    - Ensured all valid request timestamp and drop timestamp entried are in datetime format.\n",
        "\n",
        "3. Created Derived Features\n",
        "    - request_hour : extracted from request_timestamp to analyze hourly demand.\n",
        "    - request_day : weekday name from request_timestamp\n",
        "    - trip_duration_mins : (drop_timestamp - request_timestamp) in minutes, only for rows with both timestamps.\n",
        "\n",
        "4. Filtered Valid Records\n",
        "    - Final cleaned dataset has 2661 valid rows (from original 6745)\n",
        "    - columns cleaned and converted to correct datatypes (int,float,datetime,object)\n",
        "\n",
        "    \n",
        "\n",
        "\n",
        "*** Insights found from Cleaned dataset ***\n",
        "\n",
        "1. Status distribition insight\n",
        "\n",
        "    - Around 40% - 45% of trips were not completed (either cancelled or No cars available)\n",
        "\n",
        "    - Indicates high demand-supply imbalance or poor driver availability during peak hours.\n",
        "\n",
        "2. Temporal patterns\n",
        "\n",
        "    - Peak request hours: 5 AM – 9 AM and 5 PM – 9 PM\n",
        "    \n",
        "    - Morning Airport requests saw high failure rates → lack of available drivers\n",
        "\n",
        "3. 📍 Zone-Based Observations\n",
        "\n",
        "    - City pickups had slightly higher completion rates than Airport\n",
        "\n",
        "    - Airport had more “No Cars Available” cases during early hours\n",
        "\n",
        "4. 🧍 Driver Availability\n",
        "\n",
        "    - Over 1000 rows had missing driver_id → Indicates unassigned requests due to unavailability\n",
        "\n",
        "    - These records align with failure cases (status ≠ 'Trip Completed')\n",
        "\n",
        "5. 🕒 Trip Duration Analysis\n",
        "\n",
        "    - Completed trips averaged between 35–55 minutes\n",
        "\n",
        "    - Airport rides were generally longer in duration than City rides\n",
        "\n",
        "    - A few rides took unusually long – potential outliers for traffic or logging errors"
      ]
    },
    {
      "cell_type": "markdown",
      "metadata": {
        "id": "GF8Ens_Soomf"
      },
      "source": [
        "## ***4. Data Vizualization, Storytelling & Experimenting with charts : Understand the relationships between variables***"
      ]
    },
    {
      "cell_type": "markdown",
      "metadata": {
        "id": "0wOQAZs5pc--"
      },
      "source": [
        "#### Chart - 1"
      ]
    },
    {
      "cell_type": "code",
      "execution_count": null,
      "metadata": {
        "id": "7v_ESjsspbW7"
      },
      "outputs": [],
      "source": [
        "# Chart - 1 visualization code\n",
        "# Status Distribution\n",
        "plt.figure(figsize=(8, 5))\n",
        "sns.countplot(data=df, x='status', palette='Set2')\n",
        "plt.title('Chart 1: Trip Request Status Count')\n",
        "plt.xlabel('Trip Status')\n",
        "plt.ylabel('Number of Requests')\n",
        "plt.grid(axis='y')\n",
        "plt.show()"
      ]
    },
    {
      "cell_type": "markdown",
      "metadata": {
        "id": "K5QZ13OEpz2H"
      },
      "source": [
        "##### 1. Why did you pick the specific chart?"
      ]
    },
    {
      "cell_type": "markdown",
      "metadata": {
        "id": "XESiWehPqBRc"
      },
      "source": [
        "To visualize the demand and supply efficiency, and how often bookings fail or succeed."
      ]
    },
    {
      "cell_type": "markdown",
      "metadata": {
        "id": "lQ7QKXXCp7Bj"
      },
      "source": [
        "##### 2. What is/are the insight(s) found from the chart?"
      ]
    },
    {
      "cell_type": "markdown",
      "metadata": {
        "id": "C_j1G7yiqdRP"
      },
      "source": [
        "we may observe a high number of cancellations or no car availability, indicating supply-demand mismatch."
      ]
    },
    {
      "cell_type": "markdown",
      "metadata": {
        "id": "448CDAPjqfQr"
      },
      "source": [
        "##### 3. Will the gained insights help creating a positive business impact?\n",
        "Are there any insights that lead to negative growth? Justify with specific reason."
      ]
    },
    {
      "cell_type": "markdown",
      "metadata": {
        "id": "3cspy4FjqxJW"
      },
      "source": [
        "The insights help identify how often trips are completed, cancelled, or unfulfilled.\n",
        "If cancellations or \"No Cars Available\" are high, it signals service inefficiency.\n",
        "Addressing these issues improves customer satisfaction and driver utilization.\n",
        "Ignoring this can lead to loss of users and decreased revenue.\n",
        "\n",
        "Yes. Helps identify inefficiencies. Fixing this can boost user satisfaction and retention.\n"
      ]
    },
    {
      "cell_type": "markdown",
      "metadata": {
        "id": "KSlN3yHqYklG"
      },
      "source": [
        "#### Chart - 2"
      ]
    },
    {
      "cell_type": "code",
      "execution_count": null,
      "metadata": {
        "id": "R4YgtaqtYklH"
      },
      "outputs": [],
      "source": [
        "# Chart - 2 visualization code\n",
        "# Hourly Demand vs Status\n",
        "plt.figure(figsize=(10,6))\n",
        "sns.countplot(data=df, x='request_hour', hue='status', palette='muted')\n",
        "plt.title('Chart 2: Hourly Trip Requests by Status')\n",
        "plt.xlabel('Hour of Day')\n",
        "plt.ylabel('Number of Requests')\n",
        "plt.legend(title='Status')\n",
        "plt.grid(axis='y')\n",
        "plt.show()"
      ]
    },
    {
      "cell_type": "markdown",
      "metadata": {
        "id": "t6dVpIINYklI"
      },
      "source": [
        "##### 1. Why did you pick the specific chart?"
      ]
    },
    {
      "cell_type": "markdown",
      "metadata": {
        "id": "5aaW0BYyYklI"
      },
      "source": [
        "To observe hourly behavior and spot failure trends by time."
      ]
    },
    {
      "cell_type": "markdown",
      "metadata": {
        "id": "ijmpgYnKYklI"
      },
      "source": [
        "##### 2. What is/are the insight(s) found from the chart?"
      ]
    },
    {
      "cell_type": "markdown",
      "metadata": {
        "id": "PSx9atu2YklI"
      },
      "source": [
        "Trip failures increase drastically during morning and evening peak hours."
      ]
    },
    {
      "cell_type": "markdown",
      "metadata": {
        "id": "-JiQyfWJYklI"
      },
      "source": [
        "##### 3. Will the gained insights help creating a positive business impact?\n",
        "Are there any insights that lead to negative growth? Justify with specific reason."
      ]
    },
    {
      "cell_type": "markdown",
      "metadata": {
        "id": "BcBbebzrYklV"
      },
      "source": [
        "Yes. Targeting peak hours with more drivers can reduce unfulfilled requests."
      ]
    },
    {
      "cell_type": "markdown",
      "metadata": {
        "id": "EM7whBJCYoAo"
      },
      "source": [
        "#### Chart - 3"
      ]
    },
    {
      "cell_type": "code",
      "execution_count": null,
      "metadata": {
        "id": "t6GMdE67YoAp"
      },
      "outputs": [],
      "source": [
        "# Chart - 3 visualization code\n",
        "#  Pickup Point vs Status\n",
        "pickup_status = df.groupby(['pickup_point', 'status']).size().unstack()\n",
        "pickup_status.plot(kind='bar', stacked=True, figsize=(8, 5), colormap='coolwarm')\n",
        "plt.title('Chart 3: Pickup Point vs Status')\n",
        "plt.xlabel('Pickup Point')\n",
        "plt.ylabel('Trip Count')\n",
        "plt.grid(axis='y')\n",
        "plt.xticks(rotation=0)\n",
        "plt.show()"
      ]
    },
    {
      "cell_type": "markdown",
      "metadata": {
        "id": "fge-S5ZAYoAp"
      },
      "source": [
        "##### 1. Why did you pick the specific chart?"
      ]
    },
    {
      "cell_type": "markdown",
      "metadata": {
        "id": "5dBItgRVYoAp"
      },
      "source": [
        "To compare trip status based on pickup location."
      ]
    },
    {
      "cell_type": "markdown",
      "metadata": {
        "id": "85gYPyotYoAp"
      },
      "source": [
        "##### 2. What is/are the insight(s) found from the chart?"
      ]
    },
    {
      "cell_type": "markdown",
      "metadata": {
        "id": "a479Asnyvi3H"
      },
      "source": [
        "Airport trips fail more often due to car unavailability."
      ]
    },
    {
      "cell_type": "markdown",
      "metadata": {
        "id": "RoGjAbkUYoAp"
      },
      "source": [
        "##### 3. Will the gained insights help creating a positive business impact?\n",
        "Are there any insights that lead to negative growth? Justify with specific reason."
      ]
    },
    {
      "cell_type": "markdown",
      "metadata": {
        "id": "zfJ8IqMcYoAp"
      },
      "source": [
        " ✅ Yes. More driver deployment to airports may improve performance."
      ]
    },
    {
      "cell_type": "markdown",
      "metadata": {
        "id": "4Of9eVA-YrdM"
      },
      "source": [
        "#### Chart - 4"
      ]
    },
    {
      "cell_type": "code",
      "execution_count": null,
      "metadata": {
        "id": "irlUoxc8YrdO"
      },
      "outputs": [],
      "source": [
        "# Chart - 4 visualization code\n",
        "# Average Trip Duration\n",
        "plt.figure(figsize=(10,5))\n",
        "avg_trip = df[df['status'] == 'Trip Completed'].groupby('pickup_point')['trip_duration_mins'].mean()\n",
        "avg_trip.plot(kind='bar', color='teal')\n",
        "plt.title('Chart 4: Average Trip Duration by Pickup Point')\n",
        "plt.ylabel('Trip Duration (mins)')\n",
        "plt.xlabel('Pickup Point')\n",
        "plt.grid(axis='y')\n",
        "plt.xticks(rotation=0)\n",
        "plt.show()"
      ]
    },
    {
      "cell_type": "markdown",
      "metadata": {
        "id": "iky9q4vBYrdO"
      },
      "source": [
        "##### 1. Why did you pick the specific chart?"
      ]
    },
    {
      "cell_type": "markdown",
      "metadata": {
        "id": "aJRCwT6DYrdO"
      },
      "source": [
        "To analyze how trip length varies by pickup location."
      ]
    },
    {
      "cell_type": "markdown",
      "metadata": {
        "id": "F6T5p64dYrdO"
      },
      "source": [
        "##### 2. What is/are the insight(s) found from the chart?"
      ]
    },
    {
      "cell_type": "markdown",
      "metadata": {
        "id": "Xx8WAJvtYrdO"
      },
      "source": [
        "Airport trips take longer than city trips."
      ]
    },
    {
      "cell_type": "markdown",
      "metadata": {
        "id": "y-Ehk30pYrdP"
      },
      "source": [
        "##### 3. Will the gained insights help creating a positive business impact?\n",
        "Are there any insights that lead to negative growth? Justify with specific reason."
      ]
    },
    {
      "cell_type": "markdown",
      "metadata": {
        "id": "jLNxxz7MYrdP"
      },
      "source": [
        " ✅ Yes. Longer trips may require fare adjustments to incentivize drivers."
      ]
    },
    {
      "cell_type": "markdown",
      "metadata": {
        "id": "bamQiAODYuh1"
      },
      "source": [
        "#### Chart - 5"
      ]
    },
    {
      "cell_type": "code",
      "execution_count": null,
      "metadata": {
        "id": "TIJwrbroYuh3"
      },
      "outputs": [],
      "source": [
        "# Chart - 5 visualization code\n",
        "# Heatmap of Hour vs Day\n",
        "plt.figure(figsize=(12,6))\n",
        "heat_data = df.groupby(['request_day', 'request_hour']).size().unstack()\n",
        "sns.heatmap(heat_data, cmap='YlGnBu', annot=True, fmt='g')\n",
        "plt.title('Chart 5: Heatmap of Hourly Requests by Weekday')\n",
        "plt.xlabel('Hour of Day')\n",
        "plt.ylabel('Day of Week')\n",
        "plt.show()"
      ]
    },
    {
      "cell_type": "markdown",
      "metadata": {
        "id": "QHF8YVU7Yuh3"
      },
      "source": [
        "##### 1. Why did you pick the specific chart?"
      ]
    },
    {
      "cell_type": "markdown",
      "metadata": {
        "id": "dcxuIMRPYuh3"
      },
      "source": [
        "Multivariate view of demand patterns over the week."
      ]
    },
    {
      "cell_type": "markdown",
      "metadata": {
        "id": "GwzvFGzlYuh3"
      },
      "source": [
        "##### 2. What is/are the insight(s) found from the chart?"
      ]
    },
    {
      "cell_type": "markdown",
      "metadata": {
        "id": "uyqkiB8YYuh3"
      },
      "source": [
        "High demand observed during workweek morning and evening."
      ]
    },
    {
      "cell_type": "markdown",
      "metadata": {
        "id": "qYpmQ266Yuh3"
      },
      "source": [
        "##### 3. Will the gained insights help creating a positive business impact?\n",
        "Are there any insights that lead to negative growth? Justify with specific reason."
      ]
    },
    {
      "cell_type": "markdown",
      "metadata": {
        "id": "_WtzZ_hCYuh4"
      },
      "source": [
        "✅ Yes. Helps in aligning driver availability to peak periods."
      ]
    },
    {
      "cell_type": "markdown",
      "metadata": {
        "id": "OH-pJp9IphqM"
      },
      "source": [
        "#### Chart - 6"
      ]
    },
    {
      "cell_type": "code",
      "execution_count": null,
      "metadata": {
        "id": "kuRf4wtuphqN"
      },
      "outputs": [],
      "source": [
        "# Chart - 6 visualization code\n",
        "# Requests per Day\n",
        "plt.figure(figsize=(8, 5))\n",
        "df['request_day'].value_counts().reindex(['Monday','Tuesday','Wednesday','Thursday','Friday','Saturday','Sunday']).plot(kind='bar', color='orchid')\n",
        "plt.title('Chart 6: Trip Requests by Day')\n",
        "plt.ylabel('Number of Requests')\n",
        "plt.xlabel('Day of Week')\n",
        "plt.grid(axis='y')\n",
        "plt.show()"
      ]
    },
    {
      "cell_type": "markdown",
      "metadata": {
        "id": "bbFf2-_FphqN"
      },
      "source": [
        "##### 1. Why did you pick the specific chart?"
      ]
    },
    {
      "cell_type": "markdown",
      "metadata": {
        "id": "loh7H2nzphqN"
      },
      "source": [
        "Univariate view of request load by day."
      ]
    },
    {
      "cell_type": "markdown",
      "metadata": {
        "id": "_ouA3fa0phqN"
      },
      "source": [
        "##### 2. What is/are the insight(s) found from the chart?"
      ]
    },
    {
      "cell_type": "markdown",
      "metadata": {
        "id": "VECbqPI7phqN"
      },
      "source": [
        " Weekdays have higher requests than weekends."
      ]
    },
    {
      "cell_type": "markdown",
      "metadata": {
        "id": "Seke61FWphqN"
      },
      "source": [
        "##### 3. Will the gained insights help creating a positive business impact?\n",
        "Are there any insights that lead to negative growth? Justify with specific reason."
      ]
    },
    {
      "cell_type": "markdown",
      "metadata": {
        "id": "DW4_bGpfphqN"
      },
      "source": [
        "✅ Yes. Plan more resources on high-volume weekdays."
      ]
    },
    {
      "cell_type": "markdown",
      "metadata": {
        "id": "PIIx-8_IphqN"
      },
      "source": [
        "#### Chart - 7"
      ]
    },
    {
      "cell_type": "code",
      "execution_count": null,
      "metadata": {
        "id": "lqAIGUfyphqO"
      },
      "outputs": [],
      "source": [
        "# Chart - 7 visualization code\n",
        "# Trip Duration Distribution\n",
        "plt.figure(figsize=(10,6))\n",
        "sns.histplot(df[df['trip_duration_mins'].notnull()]['trip_duration_mins'], bins=30, kde=True, color='coral')\n",
        "plt.title('Chart 7: Distribution of Trip Duration')\n",
        "plt.xlabel('Trip Duration (mins)')\n",
        "plt.ylabel('Frequency')\n",
        "plt.grid(axis='y')\n",
        "plt.show()"
      ]
    },
    {
      "cell_type": "markdown",
      "metadata": {
        "id": "t27r6nlMphqO"
      },
      "source": [
        "##### 1. Why did you pick the specific chart?"
      ]
    },
    {
      "cell_type": "markdown",
      "metadata": {
        "id": "iv6ro40sphqO"
      },
      "source": [
        "Univariate analysis of trip duration spread."
      ]
    },
    {
      "cell_type": "markdown",
      "metadata": {
        "id": "r2jJGEOYphqO"
      },
      "source": [
        "##### 2. What is/are the insight(s) found from the chart?"
      ]
    },
    {
      "cell_type": "markdown",
      "metadata": {
        "id": "Po6ZPi4hphqO"
      },
      "source": [
        "Most trips are short (under 25 mins), long ones are rare."
      ]
    },
    {
      "cell_type": "markdown",
      "metadata": {
        "id": "b0JNsNcRphqO"
      },
      "source": [
        "##### 3. Will the gained insights help creating a positive business impact?\n",
        "Are there any insights that lead to negative growth? Justify with specific reason."
      ]
    },
    {
      "cell_type": "markdown",
      "metadata": {
        "id": "xvSq8iUTphqO"
      },
      "source": [
        " ✅ Yes. May adjust short trip pricing strategy accordingly."
      ]
    },
    {
      "cell_type": "markdown",
      "metadata": {
        "id": "BZR9WyysphqO"
      },
      "source": [
        "#### Chart - 8"
      ]
    },
    {
      "cell_type": "code",
      "execution_count": null,
      "metadata": {
        "id": "TdPTWpAVphqO"
      },
      "outputs": [],
      "source": [
        "# Chart - 8 visualization code\n",
        "# Boxplot by Pickup Point\n",
        "\n",
        "plt.figure(figsize=(10,6))\n",
        "sns.boxplot(data=df[df['trip_duration_mins'].notnull()], x='pickup_point', y='trip_duration_mins', palette='Set3')\n",
        "plt.title('Chart 8: Trip Duration by Pickup Point')\n",
        "plt.xlabel('Pickup Point')\n",
        "plt.ylabel('Trip Duration (mins)')\n",
        "plt.grid(axis='y')\n",
        "plt.show()"
      ]
    },
    {
      "cell_type": "markdown",
      "metadata": {
        "id": "jj7wYXLtphqO"
      },
      "source": [
        "##### 1. Why did you pick the specific chart?"
      ]
    },
    {
      "cell_type": "markdown",
      "metadata": {
        "id": "Ob8u6rCTphqO"
      },
      "source": [
        "Bivariate analysis to spot trip duration outliers by location."
      ]
    },
    {
      "cell_type": "markdown",
      "metadata": {
        "id": "eZrbJ2SmphqO"
      },
      "source": [
        "##### 2. What is/are the insight(s) found from the chart?"
      ]
    },
    {
      "cell_type": "markdown",
      "metadata": {
        "id": "mZtgC_hjphqO"
      },
      "source": [
        "Airport trips have higher variability and outliers."
      ]
    },
    {
      "cell_type": "markdown",
      "metadata": {
        "id": "rFu4xreNphqO"
      },
      "source": [
        "##### 3. Will the gained insights help creating a positive business impact?\n",
        "Are there any insights that lead to negative growth? Justify with specific reason."
      ]
    },
    {
      "cell_type": "markdown",
      "metadata": {
        "id": "ey_0qi68phqO"
      },
      "source": [
        "✅ Yes. Useful for driver trip planning."
      ]
    },
    {
      "cell_type": "markdown",
      "metadata": {
        "id": "YJ55k-q6phqO"
      },
      "source": [
        "#### Chart - 9"
      ]
    },
    {
      "cell_type": "code",
      "execution_count": null,
      "metadata": {
        "id": "B2aS4O1ophqO"
      },
      "outputs": [],
      "source": [
        "# Chart - 9 visualization code\n",
        "# Requests by Driver ID (Top 10)\n",
        "top_drivers = df['driver_id'].value_counts().nlargest(10)\n",
        "top_drivers.plot(kind='bar', figsize=(10,5), color='slateblue')\n",
        "plt.title('Chart 9: Top 10 Drivers by Request Volume')\n",
        "plt.ylabel('Number of Requests')\n",
        "plt.xlabel('Driver ID')\n",
        "plt.grid(axis='y')\n",
        "plt.show()"
      ]
    },
    {
      "cell_type": "markdown",
      "metadata": {
        "id": "gCFgpxoyphqP"
      },
      "source": [
        "##### 1. Why did you pick the specific chart?"
      ]
    },
    {
      "cell_type": "markdown",
      "metadata": {
        "id": "TVxDimi2phqP"
      },
      "source": [
        " Identifies most active drivers."
      ]
    },
    {
      "cell_type": "markdown",
      "metadata": {
        "id": "OVtJsKN_phqQ"
      },
      "source": [
        "##### 2. What is/are the insight(s) found from the chart?"
      ]
    },
    {
      "cell_type": "markdown",
      "metadata": {
        "id": "ngGi97qjphqQ"
      },
      "source": [
        "A few drivers handle a large share of trips."
      ]
    },
    {
      "cell_type": "markdown",
      "metadata": {
        "id": "lssrdh5qphqQ"
      },
      "source": [
        "##### 3. Will the gained insights help creating a positive business impact?\n",
        "Are there any insights that lead to negative growth? Justify with specific reason."
      ]
    },
    {
      "cell_type": "markdown",
      "metadata": {
        "id": "tBpY5ekJphqQ"
      },
      "source": [
        "✅ Yes. Retaining top drivers is crucial for service quality.Answer HereAnswer Here"
      ]
    },
    {
      "cell_type": "markdown",
      "metadata": {
        "id": "U2RJ9gkRphqQ"
      },
      "source": [
        "#### Chart - 10"
      ]
    },
    {
      "cell_type": "code",
      "execution_count": null,
      "metadata": {
        "id": "GM7a4YP4phqQ"
      },
      "outputs": [],
      "source": [
        "# Chart - 10 visualization code\n",
        "# Completion Rate by Driver ID (Top 10)\n",
        "\n",
        "completion_rate = df[df['status'] == 'Trip Completed']['driver_id'].value_counts().nlargest(10)\n",
        "completion_rate.plot(kind='bar', figsize=(10,5), color='seagreen')\n",
        "plt.title('Chart 10: Top 10 Drivers by Completed Trips')\n",
        "plt.ylabel('Completed Trips')\n",
        "plt.xlabel('Driver ID')\n",
        "plt.grid(axis='y')\n",
        "plt.show()"
      ]
    },
    {
      "cell_type": "markdown",
      "metadata": {
        "id": "1M8mcRywphqQ"
      },
      "source": [
        "##### 1. Why did you pick the specific chart?"
      ]
    },
    {
      "cell_type": "markdown",
      "metadata": {
        "id": "8agQvks0phqQ"
      },
      "source": [
        "Focuses on top-performing drivers."
      ]
    },
    {
      "cell_type": "markdown",
      "metadata": {
        "id": "tgIPom80phqQ"
      },
      "source": [
        "##### 2. What is/are the insight(s) found from the chart?"
      ]
    },
    {
      "cell_type": "markdown",
      "metadata": {
        "id": "Qp13pnNzphqQ"
      },
      "source": [
        "Same drivers dominate completed trips."
      ]
    },
    {
      "cell_type": "markdown",
      "metadata": {
        "id": "JMzcOPDDphqR"
      },
      "source": [
        "##### 3. Will the gained insights help creating a positive business impact?\n",
        "Are there any insights that lead to negative growth? Justify with specific reason."
      ]
    },
    {
      "cell_type": "markdown",
      "metadata": {
        "id": "R4Ka1PC2phqR"
      },
      "source": [
        "✅ Yes. Useful for incentive plans and training others."
      ]
    },
    {
      "cell_type": "markdown",
      "metadata": {
        "id": "x-EpHcCOp1ci"
      },
      "source": [
        "#### Chart - 11"
      ]
    },
    {
      "cell_type": "code",
      "execution_count": null,
      "metadata": {
        "id": "mAQTIvtqp1cj"
      },
      "outputs": [],
      "source": [
        "# Chart - 11 visualization code\n",
        "# Cancelled Trips by Hour\n",
        "plt.figure(figsize=(10,5))\n",
        "cancelled_by_hour = df[df['status'] == 'Cancelled']['request_hour'].value_counts().sort_index()\n",
        "cancelled_by_hour.plot(kind='line', marker='o', color='red')\n",
        "plt.title('Chart 11: Cancelled Trips by Hour')\n",
        "plt.xlabel('Hour of Day')\n",
        "plt.ylabel('Cancelled Trips')\n",
        "plt.grid()\n",
        "plt.show()"
      ]
    },
    {
      "cell_type": "markdown",
      "metadata": {
        "id": "X_VqEhTip1ck"
      },
      "source": [
        "##### 1. Why did you pick the specific chart?"
      ]
    },
    {
      "cell_type": "markdown",
      "metadata": {
        "id": "-vsMzt_np1ck"
      },
      "source": [
        "Tracks cancellation trend by time."
      ]
    },
    {
      "cell_type": "markdown",
      "metadata": {
        "id": "8zGJKyg5p1ck"
      },
      "source": [
        "##### 2. What is/are the insight(s) found from the chart?"
      ]
    },
    {
      "cell_type": "markdown",
      "metadata": {
        "id": "ZYdMsrqVp1ck"
      },
      "source": [
        "Cancellations peak during morning and evening hours."
      ]
    },
    {
      "cell_type": "markdown",
      "metadata": {
        "id": "PVzmfK_Ep1ck"
      },
      "source": [
        "##### 3. Will the gained insights help creating a positive business impact?\n",
        "Are there any insights that lead to negative growth? Justify with specific reason."
      ]
    },
    {
      "cell_type": "markdown",
      "metadata": {
        "id": "druuKYZpp1ck"
      },
      "source": [
        "✅ Yes. Helps mitigate risk by ensuring driver availability."
      ]
    },
    {
      "cell_type": "markdown",
      "metadata": {
        "id": "n3dbpmDWp1ck"
      },
      "source": [
        "#### Chart - 12"
      ]
    },
    {
      "cell_type": "code",
      "execution_count": null,
      "metadata": {
        "id": "bwevp1tKp1ck"
      },
      "outputs": [],
      "source": [
        "# Chart - 12 visualization code\n",
        "# No Cars Available by Hour\n",
        "plt.figure(figsize=(10,5))\n",
        "no_cars = df[df['status'] == 'No Cars Available']['request_hour'].value_counts().sort_index()\n",
        "no_cars.plot(kind='line', marker='o', color='darkorange')\n",
        "plt.title('Chart 12: No Cars Available by Hour')\n",
        "plt.xlabel('Hour of Day')\n",
        "plt.ylabel('Requests Failed')\n",
        "plt.grid()\n",
        "plt.show()\n"
      ]
    },
    {
      "cell_type": "markdown",
      "metadata": {
        "id": "ylSl6qgtp1ck"
      },
      "source": [
        "##### 1. Why did you pick the specific chart?"
      ]
    },
    {
      "cell_type": "markdown",
      "metadata": {
        "id": "m2xqNkiQp1ck"
      },
      "source": [
        "Shows supply gaps during high demand."
      ]
    },
    {
      "cell_type": "markdown",
      "metadata": {
        "id": "ZWILFDl5p1ck"
      },
      "source": [
        "##### 2. What is/are the insight(s) found from the chart?"
      ]
    },
    {
      "cell_type": "markdown",
      "metadata": {
        "id": "x-lUsV2mp1ck"
      },
      "source": [
        "Morning hours suffer the most."
      ]
    },
    {
      "cell_type": "markdown",
      "metadata": {
        "id": "M7G43BXep1ck"
      },
      "source": [
        "##### 3. Will the gained insights help creating a positive business impact?\n",
        "Are there any insights that lead to negative growth? Justify with specific reason."
      ]
    },
    {
      "cell_type": "markdown",
      "metadata": {
        "id": "5wwDJXsLp1cl"
      },
      "source": [
        "✅ Yes. Improve matching logic and driver assignment."
      ]
    },
    {
      "cell_type": "markdown",
      "metadata": {
        "id": "Ag9LCva-p1cl"
      },
      "source": [
        "#### Chart - 13"
      ]
    },
    {
      "cell_type": "code",
      "execution_count": null,
      "metadata": {
        "id": "EUfxeq9-p1cl"
      },
      "outputs": [],
      "source": [
        "# Chart - 13 visualization code\n",
        "# Cancelled Trips by Pickup Point\n",
        "\n",
        "cancelled_pp = df[df['status'] == 'Cancelled']['pickup_point'].value_counts()\n",
        "cancelled_pp.plot(kind='bar', color='salmon')\n",
        "plt.title('Chart 13: Cancelled Trips by Pickup Point')\n",
        "plt.xlabel('Pickup Point')\n",
        "plt.ylabel('Cancelled Trips')\n",
        "plt.grid(axis='y')\n",
        "plt.show()"
      ]
    },
    {
      "cell_type": "markdown",
      "metadata": {
        "id": "E6MkPsBcp1cl"
      },
      "source": [
        "##### 1. Why did you pick the specific chart?"
      ]
    },
    {
      "cell_type": "markdown",
      "metadata": {
        "id": "V22bRsFWp1cl"
      },
      "source": [
        "Reveals cancellation hotspots."
      ]
    },
    {
      "cell_type": "markdown",
      "metadata": {
        "id": "2cELzS2fp1cl"
      },
      "source": [
        "##### 2. What is/are the insight(s) found from the chart?"
      ]
    },
    {
      "cell_type": "markdown",
      "metadata": {
        "id": "ozQPc2_Ip1cl"
      },
      "source": [
        "City has more cancellations than Airport."
      ]
    },
    {
      "cell_type": "markdown",
      "metadata": {
        "id": "3MPXvC8up1cl"
      },
      "source": [
        "##### 3. Will the gained insights help creating a positive business impact?\n",
        "Are there any insights that lead to negative growth? Justify with specific reason."
      ]
    },
    {
      "cell_type": "markdown",
      "metadata": {
        "id": "GL8l1tdLp1cl"
      },
      "source": [
        "✅ Yes. May reflect driver unwillingness or delay."
      ]
    },
    {
      "cell_type": "markdown",
      "metadata": {
        "id": "NC_X3p0fY2L0"
      },
      "source": [
        "#### Chart - 14 - Correlation Heatmap"
      ]
    },
    {
      "cell_type": "code",
      "execution_count": null,
      "metadata": {
        "id": "xyC9zolEZNRQ"
      },
      "outputs": [],
      "source": [
        "# Chart - 14 visualization code\n",
        "# Heatmap: Pickup Point vs Status\n",
        "\n",
        "pickup_status_matrix = df.pivot_table(index='pickup_point', columns='status', aggfunc='size', fill_value=0)\n",
        "plt.figure(figsize=(8, 5))\n",
        "sns.heatmap(pickup_status_matrix, annot=True, cmap='YlOrBr')\n",
        "plt.title('Chart 14: Pickup Point vs Status Heatmap')\n",
        "plt.xlabel('Status')\n",
        "plt.ylabel('Pickup Point')\n",
        "plt.show()\n"
      ]
    },
    {
      "cell_type": "markdown",
      "metadata": {
        "id": "UV0SzAkaZNRQ"
      },
      "source": [
        "##### 1. Why did you pick the specific chart?"
      ]
    },
    {
      "cell_type": "markdown",
      "metadata": {
        "id": "DVPuT8LYZNRQ"
      },
      "source": [
        "To give a heatmap view of how statuses vary by pickup points."
      ]
    },
    {
      "cell_type": "markdown",
      "metadata": {
        "id": "YPEH6qLeZNRQ"
      },
      "source": [
        "##### 2. What is/are the insight(s) found from the chart?"
      ]
    },
    {
      "cell_type": "markdown",
      "metadata": {
        "id": "bfSqtnDqZNRR"
      },
      "source": [
        "City has more Cancelled trips, Airport has more No Cars Available."
      ]
    },
    {
      "cell_type": "markdown",
      "metadata": {
        "id": "cP6RI-aTvi3p"
      },
      "source": [
        "##### 3. Will the gained insights help creating a positive business impact?\n",
        "Are there any insights that lead to negative growth? Justify with specific reason."
      ]
    },
    {
      "cell_type": "markdown",
      "metadata": {
        "id": "EDVkiOurvi3p"
      },
      "source": [
        "✅ Yes. Allocating more drivers to the airport can reduce unfulfilled rides.Answer Here.Answer Here"
      ]
    },
    {
      "cell_type": "markdown",
      "metadata": {
        "id": "q29F0dvdveiT"
      },
      "source": [
        "#### Chart - 15 - Pair Plot"
      ]
    },
    {
      "cell_type": "code",
      "execution_count": null,
      "metadata": {
        "id": "o58-TEIhveiU"
      },
      "outputs": [],
      "source": [
        "# Pair Plot visualization code\n",
        "# Pair Plot\n",
        "sns.pairplot(df[['request_hour', 'trip_duration_mins']], diag_kind='kde')\n",
        "plt.suptitle('Chart 16: Pair Plot of Request Hour and Trip Duration', y=1.02)\n",
        "plt.show()"
      ]
    },
    {
      "cell_type": "markdown",
      "metadata": {
        "id": "EXh0U9oCveiU"
      },
      "source": [
        "##### 1. Why did you pick the specific chart?"
      ]
    },
    {
      "cell_type": "markdown",
      "metadata": {
        "id": "eMmPjTByveiU"
      },
      "source": [
        "To identify correlation or trends between numerical variables.Answer Here."
      ]
    },
    {
      "cell_type": "markdown",
      "metadata": {
        "id": "22aHeOlLveiV"
      },
      "source": [
        "##### 2. What is/are the insight(s) found from the chart?"
      ]
    },
    {
      "cell_type": "markdown",
      "metadata": {
        "id": "uPQ8RGwHveiV"
      },
      "source": [
        "No strong correlation, but visible trends in how duration varies by hour.Answer Here"
      ]
    },
    {
      "cell_type": "markdown",
      "metadata": {
        "id": "H1fYq7dcvi3r"
      },
      "source": [
        "##### 3. Will the gained insights help creating a positive business impact?\n",
        "Are there any insights that lead to negative growth? Justify with specific reason."
      ]
    },
    {
      "cell_type": "markdown",
      "metadata": {
        "id": "YM2Kk0Qfvi3r"
      },
      "source": [
        "✅ Yes. Can aid in understanding ideal scheduling and optimization."
      ]
    },
    {
      "cell_type": "markdown",
      "metadata": {
        "id": "dQGMIMbhvi3r"
      },
      "source": [
        "#### Chart - 16 - Heatmap"
      ]
    },
    {
      "cell_type": "code",
      "execution_count": null,
      "metadata": {
        "id": "kB-yKvgMvi3s"
      },
      "outputs": [],
      "source": [
        "# CHART 15 - Heatmap: Day vs Status\n",
        "day_status_matrix = df.pivot_table(index='request_day', columns='status', aggfunc='size', fill_value=0).reindex(\n",
        "    ['Monday', 'Tuesday', 'Wednesday', 'Thursday', 'Friday', 'Saturday', 'Sunday'])\n",
        "plt.figure(figsize=(10, 6))\n",
        "sns.heatmap(day_status_matrix, annot=True, cmap='BuPu')\n",
        "plt.title('Chart 15: Day of Week vs Status Heatmap')\n",
        "plt.xlabel('Status')\n",
        "plt.ylabel('Day of Week')\n",
        "plt.show()"
      ]
    },
    {
      "cell_type": "markdown",
      "metadata": {
        "id": "tCrDj-v3vi3s"
      },
      "source": [
        "##### 1. Why did you pick the specific chart?"
      ]
    },
    {
      "cell_type": "markdown",
      "metadata": {
        "id": "C7rD0X-mvi3s"
      },
      "source": [
        "Helps us understand which weekdays have more cancellations or failures."
      ]
    },
    {
      "cell_type": "markdown",
      "metadata": {
        "id": "1CoQ1AsTvi3s"
      },
      "source": [
        "##### 2. What is/are the insight(s) found from the chart?"
      ]
    },
    {
      "cell_type": "markdown",
      "metadata": {
        "id": "vfaEHATbvi3t"
      },
      "source": [
        "Weekdays show higher cancellations; weekends have fewer requests overall."
      ]
    },
    {
      "cell_type": "markdown",
      "metadata": {
        "id": "0v7S9eeGvi3t"
      },
      "source": [
        "##### 3. Will the gained insights help creating a positive business impact?\n",
        "Are there any insights that lead to negative growth? Justify with specific reason."
      ]
    },
    {
      "cell_type": "markdown",
      "metadata": {
        "id": "djhY8hFnvi3u"
      },
      "source": [
        "✅ Yes. Adjust staffing and communication strategies accordingly."
      ]
    },
    {
      "cell_type": "markdown",
      "metadata": {
        "id": "JcMwzZxoAimU"
      },
      "source": [
        "## **5. Solution to Business Objective**"
      ]
    },
    {
      "cell_type": "markdown",
      "metadata": {
        "id": "8G2x9gOozGDZ"
      },
      "source": [
        "#### What do you suggest the client to achieve Business Objective ?\n",
        "Explain Briefly."
      ]
    },
    {
      "cell_type": "markdown",
      "metadata": {
        "id": "pASKb0qOza21"
      },
      "source": [
        "Based on the analysis, the following actions are recommended:\n",
        "\n",
        "\n",
        "1. Optimize driver allocation during peak hours (8–10 AM and 5–8 PM) where cancellations and unfulfilled trips are highest.\n",
        "\n",
        "2. Prioritize deployment of cars to Airport pickup zone, where \"No Cars Available\" is a common issue.\n",
        "\n",
        "3. Incentivize long trip acceptance for airport routes through fare adjustments or bonuses.\n",
        "\n",
        "4. Use historical demand data to create dynamic heatmaps for real-time dispatch optimization.\n",
        "\n",
        "5. Train and retain top-performing drivers who show consistent trip completion rates.\n",
        "These steps will help reduce failed bookings, increase driver productivity, improve customer satisfaction, and ultimately drive revenue growth."
      ]
    },
    {
      "cell_type": "markdown",
      "metadata": {
        "id": "7VS2WTATvi3v"
      },
      "source": [
        "#### Includes key suggestions like:\n",
        "\n",
        "- Optimizing driver allocation during peak hours\n",
        "\n",
        "- Targeting airport demand gaps\n",
        "\n",
        "- Incentivizing long-distance trips\n",
        "\n",
        "- Using data-driven heatmaps for dispatch\n",
        "\n",
        "- Retaining high-performing drivers"
      ]
    },
    {
      "cell_type": "markdown",
      "metadata": {
        "id": "gCX9965dhzqZ"
      },
      "source": [
        "# **Conclusion**"
      ]
    },
    {
      "cell_type": "markdown",
      "metadata": {
        "id": "Fjb1IsQkh3yE"
      },
      "source": [
        "- This EDA project provided a comprehensive look at Uber’s operational data, focusing on demand trends, driver performance, trip fulfillment, and customer service gaps.\n",
        "\n",
        "- 📊 Through 15 well-structured visualizations (including heatmaps and pair plots), we discovered when and where service breakdowns occur and how to address them strategically.\n",
        "\n",
        "- 📌 With actionable insights, Uber can now realign operations, improve trip fulfillment, and boost both customer and driver retention."
      ]
    },
    {
      "cell_type": "markdown",
      "metadata": {
        "id": "gIfDvo9L0UH2"
      },
      "source": [
        "### ***Hurrah! You have successfully completed your EDA Capstone Project !!!***"
      ]
    },
    {
      "cell_type": "code",
      "execution_count": null,
      "metadata": {
        "id": "8bfcfe94"
      },
      "outputs": [],
      "source": []
    },
    {
      "cell_type": "code",
      "metadata": {
        "id": "40e09f0f"
      },
      "source": [
        "df['request_hour'].value_counts()"
      ],
      "execution_count": null,
      "outputs": []
    }
  ],
  "metadata": {
    "colab": {
      "collapsed_sections": [
        "t6dVpIINYklI",
        "ijmpgYnKYklI",
        "-JiQyfWJYklI",
        "fge-S5ZAYoAp",
        "85gYPyotYoAp",
        "RoGjAbkUYoAp",
        "iky9q4vBYrdO",
        "F6T5p64dYrdO",
        "QHF8YVU7Yuh3",
        "GwzvFGzlYuh3",
        "qYpmQ266Yuh3",
        "bbFf2-_FphqN",
        "_ouA3fa0phqN",
        "Seke61FWphqN",
        "PIIx-8_IphqN",
        "t27r6nlMphqO",
        "r2jJGEOYphqO",
        "b0JNsNcRphqO",
        "BZR9WyysphqO",
        "jj7wYXLtphqO",
        "eZrbJ2SmphqO",
        "rFu4xreNphqO",
        "YJ55k-q6phqO",
        "gCFgpxoyphqP",
        "OVtJsKN_phqQ",
        "lssrdh5qphqQ",
        "U2RJ9gkRphqQ",
        "1M8mcRywphqQ",
        "tgIPom80phqQ",
        "JMzcOPDDphqR",
        "x-EpHcCOp1ci",
        "X_VqEhTip1ck",
        "8zGJKyg5p1ck",
        "PVzmfK_Ep1ck",
        "ylSl6qgtp1ck",
        "ZWILFDl5p1ck",
        "M7G43BXep1ck",
        "Ag9LCva-p1cl",
        "E6MkPsBcp1cl",
        "2cELzS2fp1cl",
        "3MPXvC8up1cl",
        "NC_X3p0fY2L0",
        "UV0SzAkaZNRQ",
        "YPEH6qLeZNRQ",
        "q29F0dvdveiT",
        "EXh0U9oCveiU",
        "22aHeOlLveiV"
      ],
      "private_outputs": true,
      "provenance": [],
      "include_colab_link": true
    },
    "kernelspec": {
      "display_name": "new_env",
      "language": "python",
      "name": "python3"
    },
    "language_info": {
      "codemirror_mode": {
        "name": "ipython",
        "version": 3
      },
      "file_extension": ".py",
      "mimetype": "text/x-python",
      "name": "python",
      "nbconvert_exporter": "python",
      "pygments_lexer": "ipython3",
      "version": "3.12.0"
    }
  },
  "nbformat": 4,
  "nbformat_minor": 0
}